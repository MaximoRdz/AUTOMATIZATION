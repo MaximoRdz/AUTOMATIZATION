{
 "cells": [
  {
   "cell_type": "markdown",
   "id": "ea48ef4b-cb63-465e-8633-8e4b840577dd",
   "metadata": {},
   "source": [
    "# Rename the files with extension '.txt':\n",
    "Given the prefix and the folder path "
   ]
  },
  {
   "cell_type": "code",
   "execution_count": 33,
   "id": "90e8a7e5-5638-4dba-8e3f-14a103fe059a",
   "metadata": {},
   "outputs": [],
   "source": [
    "import os"
   ]
  },
  {
   "cell_type": "code",
   "execution_count": 65,
   "id": "c2b7db2d-6ecb-4bff-8314-a8ca25886071",
   "metadata": {},
   "outputs": [],
   "source": [
    "def rename_txt(path, prefix):\n",
    "    # check if it is a valid path\n",
    "    assert os.path.exists(path), 'The path doesnt exist'\n",
    "    txt_files = [file for file in os.listdir(path) if file.endswith('.txt')]\n",
    "    for txt_file in txt_files:\n",
    "        old_path = os.path.join(path, txt_file)\n",
    "        new_path = os.path.join(path, ''.join((prefix, txt_file)))\n",
    "        os.rename(old_path, new_path)\n",
    "        print(f'{old_path} changed to {new_path}')"
   ]
  },
  {
   "cell_type": "code",
   "execution_count": 66,
   "id": "814b0cda-ddff-46a8-b2ac-feff031abdb5",
   "metadata": {},
   "outputs": [
    {
     "name": "stdout",
     "output_type": "stream",
     "text": [
      ".\\RENAME_FILES\\file1.txt changed to .\\RENAME_FILES\\new_file1.txt\n",
      ".\\RENAME_FILES\\file2.txt changed to .\\RENAME_FILES\\new_file2.txt\n",
      ".\\RENAME_FILES\\file3.txt changed to .\\RENAME_FILES\\new_file3.txt\n"
     ]
    }
   ],
   "source": [
    "path = '.\\RENAME_FILES'\n",
    "prefix = 'new_'\n",
    "rename_txt(path, prefix)"
   ]
  }
 ],
 "metadata": {
  "kernelspec": {
   "display_name": "Python 3 (ipykernel)",
   "language": "python",
   "name": "python3"
  },
  "language_info": {
   "codemirror_mode": {
    "name": "ipython",
    "version": 3
   },
   "file_extension": ".py",
   "mimetype": "text/x-python",
   "name": "python",
   "nbconvert_exporter": "python",
   "pygments_lexer": "ipython3",
   "version": "3.9.12"
  }
 },
 "nbformat": 4,
 "nbformat_minor": 5
}
