{
 "cells": [
  {
   "cell_type": "markdown",
   "id": "aa7704a6-46d5-4d4e-8d6d-e905acab898a",
   "metadata": {},
   "source": [
    "# Example: Extract table from Wikipedia"
   ]
  },
  {
   "cell_type": "code",
   "execution_count": 37,
   "id": "1657b427-5cad-4db6-b10f-5c74a3a0fe0c",
   "metadata": {},
   "outputs": [],
   "source": [
    "import pandas as pd\n",
    "import matplotlib.pyplot as plt\n",
    "plt.style.use(['science', 'notebook'])"
   ]
  },
  {
   "cell_type": "markdown",
   "id": "87638363-5175-4160-b1a6-efea1235ca11",
   "metadata": {},
   "source": [
    "Read the tables directly from the website"
   ]
  },
  {
   "cell_type": "code",
   "execution_count": 109,
   "id": "45f50e43-67d5-4522-9239-a121b5e8fdb8",
   "metadata": {},
   "outputs": [
    {
     "data": {
      "text/plain": [
       "23"
      ]
     },
     "execution_count": 109,
     "metadata": {},
     "output_type": "execute_result"
    }
   ],
   "source": [
    "wiki_simpsons = pd.read_html('https://en.wikipedia.org/wiki/List_of_The_Simpsons_episodes_(seasons_1%E2%80%9320)')\n",
    "len(wiki_simpsons) # tables read"
   ]
  },
  {
   "cell_type": "code",
   "execution_count": 110,
   "id": "fbeac9fe-8dbb-4a0b-8247-8926e2c5afca",
   "metadata": {},
   "outputs": [
    {
     "data": {
      "text/html": [
       "<div>\n",
       "<style scoped>\n",
       "    .dataframe tbody tr th:only-of-type {\n",
       "        vertical-align: middle;\n",
       "    }\n",
       "\n",
       "    .dataframe tbody tr th {\n",
       "        vertical-align: top;\n",
       "    }\n",
       "\n",
       "    .dataframe thead th {\n",
       "        text-align: right;\n",
       "    }\n",
       "</style>\n",
       "<table border=\"1\" class=\"dataframe\">\n",
       "  <thead>\n",
       "    <tr style=\"text-align: right;\">\n",
       "      <th></th>\n",
       "      <th>No.overall</th>\n",
       "      <th>No. inseason</th>\n",
       "      <th>Title</th>\n",
       "      <th>Directed by</th>\n",
       "      <th>Written by</th>\n",
       "      <th>Original air date</th>\n",
       "      <th>Prod.code</th>\n",
       "      <th>U.S. viewers(millions)</th>\n",
       "    </tr>\n",
       "  </thead>\n",
       "  <tbody>\n",
       "    <tr>\n",
       "      <th>0</th>\n",
       "      <td>1</td>\n",
       "      <td>1</td>\n",
       "      <td>\"Simpsons Roasting on an Open Fire\"</td>\n",
       "      <td>David Silverman</td>\n",
       "      <td>Mimi Pond</td>\n",
       "      <td>December 17, 1989</td>\n",
       "      <td>7G08</td>\n",
       "      <td>26.7[46]</td>\n",
       "    </tr>\n",
       "    <tr>\n",
       "      <th>1</th>\n",
       "      <td>2</td>\n",
       "      <td>2</td>\n",
       "      <td>\"Bart the Genius\"</td>\n",
       "      <td>David Silverman</td>\n",
       "      <td>Jon Vitti</td>\n",
       "      <td>January 14, 1990</td>\n",
       "      <td>7G02</td>\n",
       "      <td>24.5[46]</td>\n",
       "    </tr>\n",
       "    <tr>\n",
       "      <th>2</th>\n",
       "      <td>3</td>\n",
       "      <td>3</td>\n",
       "      <td>\"Homer's Odyssey\"</td>\n",
       "      <td>Wes Archer</td>\n",
       "      <td>Jay Kogen &amp; Wallace Wolodarsky</td>\n",
       "      <td>January 21, 1990</td>\n",
       "      <td>7G03</td>\n",
       "      <td>27.5[47]</td>\n",
       "    </tr>\n",
       "    <tr>\n",
       "      <th>3</th>\n",
       "      <td>4</td>\n",
       "      <td>4</td>\n",
       "      <td>\"There's No Disgrace Like Home\"</td>\n",
       "      <td>Gregg Vanzo &amp; Kent Butterworth</td>\n",
       "      <td>Al Jean &amp; Mike Reiss</td>\n",
       "      <td>January 28, 1990</td>\n",
       "      <td>7G04</td>\n",
       "      <td>20.2[48]</td>\n",
       "    </tr>\n",
       "    <tr>\n",
       "      <th>4</th>\n",
       "      <td>5</td>\n",
       "      <td>5</td>\n",
       "      <td>\"Bart the General\"</td>\n",
       "      <td>David Silverman</td>\n",
       "      <td>John Swartzwelder</td>\n",
       "      <td>February 4, 1990</td>\n",
       "      <td>7G05</td>\n",
       "      <td>27.1[49]</td>\n",
       "    </tr>\n",
       "  </tbody>\n",
       "</table>\n",
       "</div>"
      ],
      "text/plain": [
       "   No.overall  No. inseason                                Title  \\\n",
       "0           1             1  \"Simpsons Roasting on an Open Fire\"   \n",
       "1           2             2                    \"Bart the Genius\"   \n",
       "2           3             3                    \"Homer's Odyssey\"   \n",
       "3           4             4      \"There's No Disgrace Like Home\"   \n",
       "4           5             5                   \"Bart the General\"   \n",
       "\n",
       "                      Directed by                      Written by  \\\n",
       "0                 David Silverman                       Mimi Pond   \n",
       "1                 David Silverman                       Jon Vitti   \n",
       "2                      Wes Archer  Jay Kogen & Wallace Wolodarsky   \n",
       "3  Gregg Vanzo & Kent Butterworth            Al Jean & Mike Reiss   \n",
       "4                 David Silverman               John Swartzwelder   \n",
       "\n",
       "   Original air date Prod.code U.S. viewers(millions)  \n",
       "0  December 17, 1989      7G08               26.7[46]  \n",
       "1   January 14, 1990      7G02               24.5[46]  \n",
       "2   January 21, 1990      7G03               27.5[47]  \n",
       "3   January 28, 1990      7G04               20.2[48]  \n",
       "4   February 4, 1990      7G05               27.1[49]  "
      ]
     },
     "execution_count": 110,
     "metadata": {},
     "output_type": "execute_result"
    }
   ],
   "source": [
    "season1 = wiki_simpsons[1] # season 1\n",
    "season1.head()"
   ]
  },
  {
   "cell_type": "markdown",
   "id": "1b5fe029-b9d2-49be-a6d1-0f911ca58160",
   "metadata": {},
   "source": [
    "## Cleaning the U.S. Viewers column"
   ]
  },
  {
   "cell_type": "code",
   "execution_count": 111,
   "id": "7665abfc-6821-43ce-9afd-37c4361d0410",
   "metadata": {},
   "outputs": [
    {
     "data": {
      "text/plain": [
       "'U.S. viewers(millions)'"
      ]
     },
     "execution_count": 111,
     "metadata": {},
     "output_type": "execute_result"
    }
   ],
   "source": [
    "viewers = season1.columns[-1]\n",
    "viewers"
   ]
  },
  {
   "cell_type": "code",
   "execution_count": 112,
   "id": "d839cd84-da52-4bf1-a476-31b5bd9ed158",
   "metadata": {},
   "outputs": [],
   "source": [
    "season1[viewers] = season1[viewers].apply(lambda x: float(x.split('[')[0]))"
   ]
  },
  {
   "cell_type": "code",
   "execution_count": 33,
   "id": "da94ac55-bb1d-413c-923b-1ec3a056060c",
   "metadata": {},
   "outputs": [
    {
     "data": {
      "text/plain": [
       "0    26.7\n",
       "1    24.5\n",
       "2    27.5\n",
       "3    20.2\n",
       "4    27.1\n",
       "Name: U.S. viewers(millions), dtype: float64"
      ]
     },
     "execution_count": 33,
     "metadata": {},
     "output_type": "execute_result"
    }
   ],
   "source": [
    "season1[viewers].head()"
   ]
  },
  {
   "cell_type": "code",
   "execution_count": 43,
   "id": "2189d9e6-16e6-4dd3-b7d4-e99481dde1dd",
   "metadata": {},
   "outputs": [
    {
     "data": {
      "image/png": "[encoded data removed]",
      "text/plain": [
       "<Figure size 720x360 with 1 Axes>"
      ]
     },
     "metadata": {
      "needs_background": "light"
     },
     "output_type": "display_data"
    }
   ],
   "source": [
    "fig, ax = plt.subplots(figsize = (10, 5))\n",
    "ax.plot(season1[viewers], 'k--o')\n",
    "ax.set_xlabel('Episode')\n",
    "ax.set_ylabel('Million Viewers')\n",
    "plt.grid()\n",
    "plt.show()"
   ]
  }
 ],
 "metadata": {
  "kernelspec": {
   "display_name": "Python 3 (ipykernel)",
   "language": "python",
   "name": "python3"
  },
  "language_info": {
   "codemirror_mode": {
    "name": "ipython",
    "version": 3
   },
   "file_extension": ".py",
   "mimetype": "text/x-python",
   "name": "python",
   "nbconvert_exporter": "python",
   "pygments_lexer": "ipython3",
   "version": "3.9.12"
  }
 },
 "nbformat": 4,
 "nbformat_minor": 5
}
